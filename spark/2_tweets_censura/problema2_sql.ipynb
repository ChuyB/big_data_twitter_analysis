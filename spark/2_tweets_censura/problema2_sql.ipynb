{
 "cells": [
  {
   "cell_type": "code",
   "execution_count": 2,
   "metadata": {},
   "outputs": [
    {
     "name": "stderr",
     "output_type": "stream",
     "text": [
      "25/04/02 23:30:27 WARN Utils: Your hostname, kevin-HP-ProDesk-600-G2-SFF resolves to a loopback address: 127.0.1.1; using 192.168.1.105 instead (on interface eno1)\n",
      "25/04/02 23:30:27 WARN Utils: Set SPARK_LOCAL_IP if you need to bind to another address\n",
      "Setting default log level to \"WARN\".\n",
      "To adjust logging level use sc.setLogLevel(newLevel). For SparkR, use setLogLevel(newLevel).\n",
      "25/04/02 23:30:30 WARN NativeCodeLoader: Unable to load native-hadoop library for your platform... using builtin-java classes where applicable\n",
      "25/04/02 23:32:54 WARN SparkStringUtils: Truncated the string representation of a plan since it was too large. This behavior can be adjusted by setting 'spark.sql.debug.maxToStringFields'.\n",
      "                                                                                \r"
     ]
    },
    {
     "name": "stdout",
     "output_type": "stream",
     "text": [
      "+--------------------+---------------+---------+------------+\n",
      "|             content|       username|likeCount|retweetCount|\n",
      "+--------------------+---------------+---------+------------+\n",
      "|Pagaya Technologi...|JacekWierzbicki|        0|           0|\n",
      "|Nasdaq, S&amp;P, ...|JacekWierzbicki|        0|           0|\n",
      "|Kaixin Auto stock...|JacekWierzbicki|        0|           0|\n",
      "|Sea Non-GAAP EPS ...|JacekWierzbicki|        0|           0|\n",
      "|Asia Cup 2022: St...|      Scrilling|        0|           0|\n",
      "+--------------------+---------------+---------+------------+\n",
      "only showing top 5 rows\n",
      "\n",
      "+--------+\n",
      "|   value|\n",
      "+--------+\n",
      "|  kitten|\n",
      "| feline |\n",
      "|whiskers|\n",
      "|  claws |\n",
      "|   purr |\n",
      "+--------+\n",
      "only showing top 5 rows\n",
      "\n"
     ]
    }
   ],
   "source": [
    "from pyspark.sql import SparkSession\n",
    "spark = SparkSession.builder.appName(\"problema2_sql\").getOrCreate()\n",
    "spark.sql(\"\"\"\n",
    "CREATE OR REPLACE TEMP VIEW tweets AS\n",
    "SELECT content, user.username AS username, likeCount, retweetCount\n",
    "FROM json.`data/us_news_tweets.json`\n",
    "\"\"\")\n",
    "\n",
    "spark.sql(\"\"\"\n",
    "CREATE OR REPLACE TEMP VIEW cat_keywords AS\n",
    "SELECT value\n",
    "FROM text.`cat_keywords.txt`\n",
    "\"\"\")\n",
    "\n",
    "spark.sql(\"SELECT * FROM tweets\").show(5)\n",
    "spark.sql(\"SELECT * FROM cat_keywords\").show(5)"
   ]
  },
  {
   "cell_type": "code",
   "execution_count": 3,
   "metadata": {},
   "outputs": [
    {
     "name": "stderr",
     "output_type": "stream",
     "text": [
      "                                                                                \r"
     ]
    },
    {
     "name": "stdout",
     "output_type": "stream",
     "text": [
      "+--------------------+-------------+---------+------------+\n",
      "|             content|     username|likeCount|retweetCount|\n",
      "+--------------------+-------------+---------+------------+\n",
      "|710 HP Dodge Dura...|  AmeenWheels|        0|           0|\n",
      "|2023 Dodge Durang...|  AmeenWheels|        0|           0|\n",
      "|How does the 2023...|  AmeenWheels|        0|           0|\n",
      "|NEWS🚨.\\nPresiden...|hifza43878208|        2|           1|\n",
      "|https://t.co/uVcF...|   Air101blog|        0|           0|\n",
      "+--------------------+-------------+---------+------------+\n",
      "only showing top 5 rows\n",
      "\n"
     ]
    },
    {
     "name": "stderr",
     "output_type": "stream",
     "text": [
      "                                                                                \r"
     ]
    }
   ],
   "source": [
    "spark.sql(\"\"\"\n",
    "CREATE OR REPLACE TEMP VIEW tweets_gatos AS\n",
    "SELECT t.content, t.username, t.likeCount, t.retweetCount\n",
    "FROM tweets t\n",
    "CROSS JOIN cat_keywords c\n",
    "WHERE LOWER(t.content) LIKE CONCAT('%', LOWER(c.value), '%')\n",
    "\"\"\")\n",
    "\n",
    "spark.sql(\"SELECT * FROM tweets_gatos\").show(5)"
   ]
  },
  {
   "cell_type": "code",
   "execution_count": 4,
   "metadata": {},
   "outputs": [
    {
     "name": "stderr",
     "output_type": "stream",
     "text": [
      "25/04/03 00:03:13 WARN RowBasedKeyValueBatch: Calling spill() on RowBasedKeyValueBatch. Will not spill but return 0.\n",
      "25/04/03 00:03:13 WARN RowBasedKeyValueBatch: Calling spill() on RowBasedKeyValueBatch. Will not spill but return 0.\n",
      "25/04/03 00:03:13 WARN RowBasedKeyValueBatch: Calling spill() on RowBasedKeyValueBatch. Will not spill but return 0.\n",
      "25/04/03 00:03:14 WARN RowBasedKeyValueBatch: Calling spill() on RowBasedKeyValueBatch. Will not spill but return 0.\n",
      "25/04/03 00:03:14 WARN RowBasedKeyValueBatch: Calling spill() on RowBasedKeyValueBatch. Will not spill but return 0.\n",
      "25/04/03 00:03:15 WARN RowBasedKeyValueBatch: Calling spill() on RowBasedKeyValueBatch. Will not spill but return 0.\n",
      "[Stage 21:>                                                         (0 + 1) / 1]\r"
     ]
    },
    {
     "name": "stdout",
     "output_type": "stream",
     "text": [
      "+--------------------+--------------+---------+------------+\n",
      "|             content|      username|likeCount|retweetCount|\n",
      "+--------------------+--------------+---------+------------+\n",
      "|Your Ten Point Gu...|      mkrivich|        3|           1|\n",
      "|2022 Chevrolet Bo...|        swogas|        1|           0|\n",
      "|Sen. #Kennedy: #B...|EmpathicOne_21|        0|           0|\n",
      "|RCB all-rounder g...|     Scrilling|        0|           0|\n",
      "|More Questions On...|      GDPUKcom|        0|           0|\n",
      "+--------------------+--------------+---------+------------+\n",
      "only showing top 5 rows\n",
      "\n"
     ]
    },
    {
     "name": "stderr",
     "output_type": "stream",
     "text": [
      "                                                                                \r"
     ]
    }
   ],
   "source": [
    "spark.sql(\"\"\"\n",
    "CREATE OR REPLACE TEMP VIEW tweets_no_gatos AS\n",
    "SELECT t.*\n",
    "FROM tweets t\n",
    "EXCEPT\n",
    "SELECT tg.*\n",
    "FROM tweets_gatos tg\n",
    "\"\"\")\n",
    "\n",
    "spark.sql(\"SELECT * FROM tweets_no_gatos\").show(5)"
   ]
  },
  {
   "cell_type": "code",
   "execution_count": 5,
   "metadata": {},
   "outputs": [
    {
     "name": "stderr",
     "output_type": "stream",
     "text": [
      "                                                                                \r"
     ]
    },
    {
     "name": "stdout",
     "output_type": "stream",
     "text": [
      "+--------------------+-------------+---------+------------+\n",
      "|             content|     username|likeCount|retweetCount|\n",
      "+--------------------+-------------+---------+------------+\n",
      "|710 HP Dodge Dura...|  AmeenWheels|        0|           0|\n",
      "|2023 Dodge Durang...|  AmeenWheels|        0|           0|\n",
      "|How does the 2023...|  AmeenWheels|        0|           0|\n",
      "|NEWS🚨.\\nPresiden...|hifza43878208|        2|           1|\n",
      "|https://t.co/uVcF...|   Air101blog|        0|           0|\n",
      "|Locally-sourced #...|       A2Indy|        0|           0|\n",
      "|NEWS🚨.\\nPresiden...|       PMDC22|        8|           1|\n",
      "|claws pickaxe (re...|    ShrimpzFN|        4|           0|\n",
      "|#News Dodge's 202...|  FBMyNEXTCar|        0|           0|\n",
      "|Oman Air Adds Mor...|wowidaysindia|        0|           0|\n",
      "+--------------------+-------------+---------+------------+\n",
      "only showing top 10 rows\n",
      "\n"
     ]
    },
    {
     "name": "stderr",
     "output_type": "stream",
     "text": [
      "25/04/03 00:21:07 WARN RowBasedKeyValueBatch: Calling spill() on RowBasedKeyValueBatch. Will not spill but return 0.\n",
      "25/04/03 00:21:08 WARN RowBasedKeyValueBatch: Calling spill() on RowBasedKeyValueBatch. Will not spill but return 0.\n",
      "25/04/03 00:21:08 WARN RowBasedKeyValueBatch: Calling spill() on RowBasedKeyValueBatch. Will not spill but return 0.\n",
      "25/04/03 00:21:08 WARN RowBasedKeyValueBatch: Calling spill() on RowBasedKeyValueBatch. Will not spill but return 0.\n",
      "25/04/03 00:21:08 WARN RowBasedKeyValueBatch: Calling spill() on RowBasedKeyValueBatch. Will not spill but return 0.\n",
      "25/04/03 00:21:08 WARN RowBasedKeyValueBatch: Calling spill() on RowBasedKeyValueBatch. Will not spill but return 0.\n",
      "                                                                                \r"
     ]
    },
    {
     "name": "stdout",
     "output_type": "stream",
     "text": [
      "+--------------------+---------------+---------+------------+\n",
      "|             content|       username|likeCount|retweetCount|\n",
      "+--------------------+---------------+---------+------------+\n",
      "|Your Ten Point Gu...|       mkrivich|        3|           1|\n",
      "|2022 Chevrolet Bo...|         swogas|        1|           0|\n",
      "|Sen. #Kennedy: #B...| EmpathicOne_21|        0|           0|\n",
      "|RCB all-rounder g...|      Scrilling|        0|           0|\n",
      "|More Questions On...|       GDPUKcom|        0|           0|\n",
      "|\"Trump’s Shifting...|     jakemaulin|        0|           0|\n",
      "|Who was the perso...|varunku43851089|        1|           0|\n",
      "|An airbag will co...|        AksTab0|        0|           0|\n",
      "|[1D] #Bitcoin mar...|      BitSwings|        1|           0|\n",
      "|What are Broker S...|investmentshoax|        0|           0|\n",
      "+--------------------+---------------+---------+------------+\n",
      "only showing top 10 rows\n",
      "\n"
     ]
    },
    {
     "name": "stderr",
     "output_type": "stream",
     "text": [
      "                                                                                \r"
     ]
    },
    {
     "name": "stdout",
     "output_type": "stream",
     "text": [
      "+----------+\n",
      "|numero_sql|\n",
      "+----------+\n",
      "|      4002|\n",
      "+----------+\n",
      "\n"
     ]
    }
   ],
   "source": [
    "spark.sql(\"SELECT * FROM tweets_gatos\").show(10)\n",
    "spark.sql(\"SELECT * FROM tweets_no_gatos\").show(10)\n",
    "spark.sql(\"SELECT COUNT(*) AS numero_sql FROM tweets_gatos\").show()\n",
    "\n",
    "spark.stop()"
   ]
  }
 ],
 "metadata": {
  "kernelspec": {
   "display_name": "problema2",
   "language": "python",
   "name": "python3"
  },
  "language_info": {
   "codemirror_mode": {
    "name": "ipython",
    "version": 3
   },
   "file_extension": ".py",
   "mimetype": "text/x-python",
   "name": "python",
   "nbconvert_exporter": "python",
   "pygments_lexer": "ipython3",
   "version": "3.12.3"
  }
 },
 "nbformat": 4,
 "nbformat_minor": 2
}
