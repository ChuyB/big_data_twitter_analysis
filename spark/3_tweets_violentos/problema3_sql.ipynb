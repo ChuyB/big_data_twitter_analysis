{
 "cells": [
  {
   "cell_type": "code",
   "execution_count": 1,
   "id": "3ed5f269-34b6-48e6-870b-467b5b39ffc8",
   "metadata": {},
   "outputs": [
    {
     "name": "stdout",
     "output_type": "stream",
     "text": [
      "no org.apache.spark.sql.connect.service.SparkConnectServer to stop\n",
      "starting org.apache.spark.sql.connect.service.SparkConnectServer, logging to /opt/spark/logs/spark-jesus-org.apache.spark.sql.connect.service.SparkConnectServer-1-Karbranth.out\n"
     ]
    }
   ],
   "source": [
    "%%bash\n",
    "source ~/.profile # Make sure environment variables are loaded.\n",
    "stop-connect-server.sh\n",
    "start-connect-server.sh --packages org.apache.spark:spark-connect_2.12:$SPARK_VERSION"
   ]
  },
  {
   "cell_type": "code",
   "execution_count": 2,
   "id": "ce8a1110-c7c9-4921-8b4f-c01914b65f6e",
   "metadata": {},
   "outputs": [],
   "source": [
    "from pyspark.sql import SparkSession\n",
    "\n",
    "SparkSession.builder.master(\"local[*]\").getOrCreate().stop()\n",
    "\n",
    "spark = SparkSession.builder.remote(\"sc://localhost:15002\").getOrCreate()"
   ]
  },
  {
   "cell_type": "code",
   "execution_count": 5,
   "id": "0717c165-9e87-4851-913a-6c87a1a2397f",
   "metadata": {},
   "outputs": [
    {
     "data": {
      "text/plain": [
       "DataFrame[]"
      ]
     },
     "execution_count": 5,
     "metadata": {},
     "output_type": "execute_result"
    }
   ],
   "source": [
    "# Cargar el archivo JSON y las palabras\n",
    "spark.sql(\"\"\"\n",
    "CREATE OR REPLACE TEMP VIEW tweets AS\n",
    "SELECT content, user.username AS username, likeCount, retweetCount, \n",
    "       place.country AS country, place.fullName AS fullName\n",
    "FROM json.`twitter/us_news_tweets.json`\n",
    "\"\"\")\n",
    "spark.sql(\"\"\"\n",
    "CREATE OR REPLACE TEMP VIEW vio_keywords AS\n",
    "SELECT value\n",
    "FROM text.`vio_keywords.txt`\n",
    "\"\"\")"
   ]
  },
  {
   "cell_type": "code",
   "execution_count": 7,
   "id": "190dc0b0-c3f0-4ad6-bd43-0655746697c2",
   "metadata": {},
   "outputs": [
    {
     "name": "stdout",
     "output_type": "stream",
     "text": [
      "+--------------------+---------------+---------+------------+-------+--------+\n",
      "|             content|       username|likeCount|retweetCount|country|fullName|\n",
      "+--------------------+---------------+---------+------------+-------+--------+\n",
      "|Pagaya Technologi...|JacekWierzbicki|        0|           0|   NULL|    NULL|\n",
      "|Nasdaq, S&amp;P, ...|JacekWierzbicki|        0|           0|   NULL|    NULL|\n",
      "|Kaixin Auto stock...|JacekWierzbicki|        0|           0|   NULL|    NULL|\n",
      "|Sea Non-GAAP EPS ...|JacekWierzbicki|        0|           0|   NULL|    NULL|\n",
      "|Asia Cup 2022: St...|      Scrilling|        0|           0|   NULL|    NULL|\n",
      "|#Cannabis #News #...|     DonPorrero|        0|           0|   NULL|    NULL|\n",
      "|#Cannabis #News #...|     DonPorrero|        0|           0|   NULL|    NULL|\n",
      "|🤩This is a good ...|    CARPE_DIGEM|        0|           0|   NULL|    NULL|\n",
      "|Partnering with #...|  cryptovinesco|        0|           0|   NULL|    NULL|\n",
      "|Today Update : Am...|   lifendaynews|        0|           0|   NULL|    NULL|\n",
      "+--------------------+---------------+---------+------------+-------+--------+\n",
      "only showing top 10 rows\n",
      "\n",
      "+--------+\n",
      "|   value|\n",
      "+--------+\n",
      "|  danger|\n",
      "|  threat|\n",
      "|   chaos|\n",
      "|   anger|\n",
      "|    rage|\n",
      "|conflict|\n",
      "|  attack|\n",
      "|   fight|\n",
      "|    harm|\n",
      "|    hate|\n",
      "+--------+\n",
      "only showing top 10 rows\n",
      "\n"
     ]
    }
   ],
   "source": [
    "# Mostrar los datos de la vista 'tweets'\n",
    "spark.sql(\"SELECT * FROM tweets\").show(10)  # Muestra las primeras 10 filas sin truncar el contenido\n",
    "\n",
    "# Mostrar los datos de la vista 'vio_keywords'\n",
    "spark.sql(\"SELECT * FROM vio_keywords\").show(10)  # Muestra las primeras 10 filas sin truncar el contenido"
   ]
  },
  {
   "cell_type": "code",
   "execution_count": 9,
   "id": "159fbeac-048c-4650-89dc-39ad55dbfeb5",
   "metadata": {},
   "outputs": [
    {
     "name": "stdout",
     "output_type": "stream",
     "text": [
      "+--------------------+--------------+---------+------------+-------------+----------------+\n",
      "|             content|      username|likeCount|retweetCount|      country|        fullName|\n",
      "+--------------------+--------------+---------+------------+-------------+----------------+\n",
      "|#News #Singularit...|    TheGodSeek|        1|           0|United States| The Singularity|\n",
      "|#News #Singularit...|    TheGodSeek|        1|           1|United States| The Singularity|\n",
      "|#News #Singularit...|    TheGodSeek|        1|           1|United States| The Singularity|\n",
      "|#News #Singularit...|    TheGodSeek|        1|           1|United States| The Singularity|\n",
      "|#News #Singularit...|    TheGodSeek|        1|           1|United States| The Singularity|\n",
      "|#News #Singularit...|    TheGodSeek|        1|           1|United States| The Singularity|\n",
      "|#News #Singularit...|    TheGodSeek|        1|           1|United States| The Singularity|\n",
      "|#News #Singularit...|    TheGodSeek|        1|           1|United States| The Singularity|\n",
      "|#News #Singularit...|    TheGodSeek|        1|           1|United States| The Singularity|\n",
      "|✝️♉️💟♎️☮️\\n#NEWS...|csmith13131314|        0|           0|United States|Poplar Bluff, MO|\n",
      "+--------------------+--------------+---------+------------+-------------+----------------+\n",
      "only showing top 10 rows\n",
      "\n"
     ]
    }
   ],
   "source": [
    "# Filtrar por país\n",
    "spark.sql(\"\"\"\n",
    "CREATE OR REPLACE TEMP VIEW paises_tweets AS\n",
    "SELECT *\n",
    "FROM tweets\n",
    "WHERE country = 'United States'\n",
    "\"\"\")\n",
    "spark.sql(\"SELECT * FROM paises_tweets\").show(10) # Mostrar resultado"
   ]
  },
  {
   "cell_type": "code",
   "execution_count": 11,
   "id": "3f83aeb9-aa22-4131-a7a6-137e700ba4d3",
   "metadata": {},
   "outputs": [
    {
     "data": {
      "text/plain": [
       "DataFrame[]"
      ]
     },
     "execution_count": 11,
     "metadata": {},
     "output_type": "execute_result"
    }
   ],
   "source": [
    "# Realizar el producto cruz y buscar palabras clave en los tweets\n",
    "spark.sql(\"\"\"\n",
    "CREATE OR REPLACE TEMP VIEW producto_cruz AS\n",
    "SELECT *\n",
    "FROM paises_tweets\n",
    "CROSS JOIN vio_keywords\n",
    "\"\"\")\n",
    "\n",
    "spark.sql(\"\"\"\n",
    "CREATE OR REPLACE TEMP VIEW tweets_violentos AS\n",
    "SELECT *\n",
    "FROM producto_cruz\n",
    "WHERE LOWER(content) LIKE CONCAT('%', value, '%')\n",
    "\"\"\")"
   ]
  },
  {
   "cell_type": "code",
   "execution_count": 12,
   "id": "996d0b2a-5e0a-4193-be38-929c4c2c4711",
   "metadata": {},
   "outputs": [
    {
     "name": "stdout",
     "output_type": "stream",
     "text": [
      "+--------------------+----------+---------+------------+-------------+---------------+--------+\n",
      "|             content|  username|likeCount|retweetCount|      country|       fullName|   value|\n",
      "+--------------------+----------+---------+------------+-------------+---------------+--------+\n",
      "|#News #Singularit...|TheGodSeek|        1|           0|United States|The Singularity|  danger|\n",
      "|#News #Singularit...|TheGodSeek|        1|           0|United States|The Singularity|  threat|\n",
      "|#News #Singularit...|TheGodSeek|        1|           0|United States|The Singularity|   chaos|\n",
      "|#News #Singularit...|TheGodSeek|        1|           0|United States|The Singularity|   anger|\n",
      "|#News #Singularit...|TheGodSeek|        1|           0|United States|The Singularity|    rage|\n",
      "|#News #Singularit...|TheGodSeek|        1|           0|United States|The Singularity|conflict|\n",
      "|#News #Singularit...|TheGodSeek|        1|           0|United States|The Singularity|  attack|\n",
      "|#News #Singularit...|TheGodSeek|        1|           0|United States|The Singularity|   fight|\n",
      "|#News #Singularit...|TheGodSeek|        1|           0|United States|The Singularity|    harm|\n",
      "|#News #Singularit...|TheGodSeek|        1|           0|United States|The Singularity|    hate|\n",
      "+--------------------+----------+---------+------------+-------------+---------------+--------+\n",
      "only showing top 10 rows\n",
      "\n"
     ]
    }
   ],
   "source": [
    "# Mostrar 10 primeros resultados\n",
    "spark.sql(\"SELECT * FROM producto_cruz\").show(10)"
   ]
  },
  {
   "cell_type": "code",
   "execution_count": 13,
   "id": "8788e91c-8634-4555-a92b-ab3b5fcb78cc",
   "metadata": {},
   "outputs": [
    {
     "data": {
      "text/plain": [
       "DataFrame[]"
      ]
     },
     "execution_count": 13,
     "metadata": {},
     "output_type": "execute_result"
    }
   ],
   "source": [
    "# Extraer el estado y eliminar columnas innecesarias\n",
    "spark.sql(\"\"\"\n",
    "CREATE OR REPLACE TEMP VIEW tweets_estados AS\n",
    "SELECT SPLIT(fullName, ', ')[1] AS state, content, username, likeCount, retweetCount\n",
    "FROM tweets_violentos\n",
    "\"\"\")\n",
    "# Agrupar por estado y contar los tweets\n",
    "spark.sql(\"\"\"\n",
    "CREATE OR REPLACE TEMP VIEW tweets_agrupados AS\n",
    "SELECT state, COLLECT_LIST(struct(content, username, likeCount, retweetCount)) AS tweets\n",
    "FROM tweets_estados\n",
    "GROUP BY state\n",
    "\"\"\")\n",
    "\n",
    "spark.sql(\"\"\"\n",
    "CREATE OR REPLACE TEMP VIEW num_tweets AS\n",
    "SELECT state, SIZE(tweets) AS cantidad_tweets, tweets\n",
    "FROM tweets_agrupados\n",
    "\"\"\")"
   ]
  },
  {
   "cell_type": "code",
   "execution_count": 14,
   "id": "38367ed9-5f5e-4d75-bcc3-6a54b93f7e36",
   "metadata": {},
   "outputs": [],
   "source": [
    "# Reorganizar las columnas y ordenar los resultados\n",
    "resultados = spark.sql(\"\"\"\n",
    "SELECT state, cantidad_tweets, \n",
    "       TRANSFORM(tweets, x -> struct(x.content, x.username, x.likeCount, x.retweetCount)) AS tweets\n",
    "FROM num_tweets\n",
    "ORDER BY cantidad_tweets DESC\n",
    "\"\"\")"
   ]
  },
  {
   "cell_type": "code",
   "execution_count": 16,
   "id": "d5fdade8-5126-48af-a2d8-363fa87c439a",
   "metadata": {},
   "outputs": [
    {
     "name": "stdout",
     "output_type": "stream",
     "text": [
      "+-----+---------------+--------------------+\n",
      "|state|cantidad_tweets|              tweets|\n",
      "+-----+---------------+--------------------+\n",
      "| NULL|            103|[{#News #Singular...|\n",
      "|   MD|             80|[{.@RexxRuga give...|\n",
      "|   CA|             74|[{If you haven't ...|\n",
      "|  USA|             49|[{#Singer-Songwri...|\n",
      "|   NY|             41|[{On Aug 4th in t...|\n",
      "|   FL|             25|[{National Modern...|\n",
      "|   IL|             20|[{Morning jolt on...|\n",
      "|   AZ|             18|[{#BREAKING: 8 Pe...|\n",
      "|   DC|             14|[{BREAKING: @figh...|\n",
      "|   TX|             14|[{Reflecting on #...|\n",
      "+-----+---------------+--------------------+\n",
      "only showing top 10 rows\n",
      "\n"
     ]
    }
   ],
   "source": [
    "# Mostrar los primeros 10 resultados\n",
    "resultados.show(10)"
   ]
  },
  {
   "cell_type": "code",
   "execution_count": 17,
   "id": "1892bd6b-e6e9-473e-97cf-a1ae904ee323",
   "metadata": {},
   "outputs": [],
   "source": [
    "# Guardar los resultados en un archivo JSON\n",
    "resultados.write.json(\"salida_problema3_spark_sql\")"
   ]
  },
  {
   "cell_type": "code",
   "execution_count": null,
   "id": "9edee3fb-2bec-4d17-ac4e-09bce95efb96",
   "metadata": {},
   "outputs": [],
   "source": []
  }
 ],
 "metadata": {
  "kernelspec": {
   "display_name": "Python 3 (ipykernel)",
   "language": "python",
   "name": "python3"
  },
  "language_info": {
   "codemirror_mode": {
    "name": "ipython",
    "version": 3
   },
   "file_extension": ".py",
   "mimetype": "text/x-python",
   "name": "python",
   "nbconvert_exporter": "python",
   "pygments_lexer": "ipython3",
   "version": "3.10.12"
  }
 },
 "nbformat": 4,
 "nbformat_minor": 5
}
