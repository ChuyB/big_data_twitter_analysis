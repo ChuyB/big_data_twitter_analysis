{
 "cells": [
  {
   "cell_type": "code",
   "execution_count": 2,
   "id": "d30967f1-f0c4-4f6d-b33e-7c4bc64213d3",
   "metadata": {},
   "outputs": [
    {
     "name": "stdout",
     "output_type": "stream",
     "text": [
      "stopping org.apache.spark.sql.connect.service.SparkConnectServer\n",
      "starting org.apache.spark.sql.connect.service.SparkConnectServer, logging to /opt/spark/logs/spark-jesus-org.apache.spark.sql.connect.service.SparkConnectServer-1-Karbranth.out\n"
     ]
    }
   ],
   "source": [
    "%%bash\n",
    "source ~/.profile # Make sure environment variables are loaded.\n",
    "stop-connect-server.sh\n",
    "start-connect-server.sh --packages org.apache.spark:spark-connect_2.12:$SPARK_VERSION"
   ]
  },
  {
   "cell_type": "code",
   "execution_count": 11,
   "id": "4e4c3757-1e0a-4471-a827-9a8915b0d4ac",
   "metadata": {},
   "outputs": [
    {
     "ename": "AttributeError",
     "evalue": "'NoneType' object has no attribute 'startswith'",
     "output_type": "error",
     "traceback": [
      "\u001b[0;31m---------------------------------------------------------------------------\u001b[0m",
      "\u001b[0;31mAttributeError\u001b[0m                            Traceback (most recent call last)",
      "Cell \u001b[0;32mIn[11], line 6\u001b[0m\n\u001b[1;32m      3\u001b[0m \u001b[38;5;28;01mfrom\u001b[39;00m \u001b[38;5;21;01mpyspark\u001b[39;00m\u001b[38;5;21;01m.\u001b[39;00m\u001b[38;5;21;01msql\u001b[39;00m\u001b[38;5;21;01m.\u001b[39;00m\u001b[38;5;21;01mfunctions\u001b[39;00m \u001b[38;5;28;01mimport\u001b[39;00m lower\n\u001b[1;32m      4\u001b[0m \u001b[38;5;28;01mfrom\u001b[39;00m \u001b[38;5;21;01mpyspark\u001b[39;00m\u001b[38;5;21;01m.\u001b[39;00m\u001b[38;5;21;01msql\u001b[39;00m\u001b[38;5;21;01m.\u001b[39;00m\u001b[38;5;21;01mtypes\u001b[39;00m \u001b[38;5;28;01mimport\u001b[39;00m StructType, StructField, StringType, IntegerType\n\u001b[0;32m----> 6\u001b[0m \u001b[43mSparkSession\u001b[49m\u001b[38;5;241;43m.\u001b[39;49m\u001b[43mbuilder\u001b[49m\u001b[38;5;241;43m.\u001b[39;49m\u001b[43mmaster\u001b[49m\u001b[43m(\u001b[49m\u001b[38;5;124;43m\"\u001b[39;49m\u001b[38;5;124;43mlocal[*]\u001b[39;49m\u001b[38;5;124;43m\"\u001b[39;49m\u001b[43m)\u001b[49m\u001b[38;5;241;43m.\u001b[39;49m\u001b[43mgetOrCreate\u001b[49m\u001b[43m(\u001b[49m\u001b[43m)\u001b[49m\u001b[38;5;241m.\u001b[39mstop()\n\u001b[1;32m      8\u001b[0m spark \u001b[38;5;241m=\u001b[39m SparkSession\u001b[38;5;241m.\u001b[39mbuilder\u001b[38;5;241m.\u001b[39mremote(\u001b[38;5;124m\"\u001b[39m\u001b[38;5;124msc://localhost:15002\u001b[39m\u001b[38;5;124m\"\u001b[39m)\u001b[38;5;241m.\u001b[39mgetOrCreate()\n",
      "File \u001b[0;32m/opt/spark/python/pyspark/sql/session.py:472\u001b[0m, in \u001b[0;36mSparkSession.Builder.getOrCreate\u001b[0;34m(self)\u001b[0m\n\u001b[1;32m    466\u001b[0m \u001b[38;5;28;01mif\u001b[39;00m (\n\u001b[1;32m    467\u001b[0m     SparkContext\u001b[38;5;241m.\u001b[39m_active_spark_context \u001b[38;5;129;01mis\u001b[39;00m \u001b[38;5;28;01mNone\u001b[39;00m\n\u001b[1;32m    468\u001b[0m     \u001b[38;5;129;01mand\u001b[39;00m SparkSession\u001b[38;5;241m.\u001b[39m_instantiatedSession \u001b[38;5;129;01mis\u001b[39;00m \u001b[38;5;28;01mNone\u001b[39;00m\n\u001b[1;32m    469\u001b[0m ):\n\u001b[1;32m    470\u001b[0m     url \u001b[38;5;241m=\u001b[39m opts\u001b[38;5;241m.\u001b[39mget(\u001b[38;5;124m\"\u001b[39m\u001b[38;5;124mspark.remote\u001b[39m\u001b[38;5;124m\"\u001b[39m, os\u001b[38;5;241m.\u001b[39menviron\u001b[38;5;241m.\u001b[39mget(\u001b[38;5;124m\"\u001b[39m\u001b[38;5;124mSPARK_REMOTE\u001b[39m\u001b[38;5;124m\"\u001b[39m))\n\u001b[0;32m--> 472\u001b[0m     \u001b[38;5;28;01mif\u001b[39;00m \u001b[43murl\u001b[49m\u001b[38;5;241;43m.\u001b[39;49m\u001b[43mstartswith\u001b[49m(\u001b[38;5;124m\"\u001b[39m\u001b[38;5;124mlocal\u001b[39m\u001b[38;5;124m\"\u001b[39m):\n\u001b[1;32m    473\u001b[0m         os\u001b[38;5;241m.\u001b[39menviron[\u001b[38;5;124m\"\u001b[39m\u001b[38;5;124mSPARK_LOCAL_REMOTE\u001b[39m\u001b[38;5;124m\"\u001b[39m] \u001b[38;5;241m=\u001b[39m \u001b[38;5;124m\"\u001b[39m\u001b[38;5;124m1\u001b[39m\u001b[38;5;124m\"\u001b[39m\n\u001b[1;32m    474\u001b[0m         RemoteSparkSession\u001b[38;5;241m.\u001b[39m_start_connect_server(url, opts)\n",
      "\u001b[0;31mAttributeError\u001b[0m: 'NoneType' object has no attribute 'startswith'"
     ]
    }
   ],
   "source": [
    "from pyspark.sql import SparkSession\n",
    "from pyspark.sql.functions import col\n",
    "from pyspark.sql.functions import lower\n",
    "\n",
    "SparkSession.builder.master(\"local[*]\").getOrCreate().stop()\n",
    "\n",
    "spark = SparkSession.builder.remote(\"sc://localhost:15002\").getOrCreate()"
   ]
  },
  {
   "cell_type": "code",
   "execution_count": 6,
   "id": "97d17afd-168c-45c9-8eea-a5f3c1d4db25",
   "metadata": {},
   "outputs": [],
   "source": [
    "# Cargar el archivo JSON y las palabras claves\n",
    "df = spark.read.json(\"twitter/us_news_tweets.json\")\n",
    "pro_keywords = spark.read.text(\"pro_vax_keywords.txt\")\n",
    "anti_keywords = spark.read.text(\"anti_vax_keywords.txt\")"
   ]
  },
  {
   "cell_type": "code",
   "execution_count": 7,
   "id": "9be2898a-02f0-4e75-90a9-423234a62bd1",
   "metadata": {},
   "outputs": [
    {
     "name": "stdout",
     "output_type": "stream",
     "text": [
      "+--------------------+---------------+---------+------------+----------+\n",
      "|             content|       username|likeCount|retweetCount|     value|\n",
      "+--------------------+---------------+---------+------------+----------+\n",
      "|Kaixin Auto stock...|JacekWierzbicki|        0|           0|    health|\n",
      "|Partnering with #...|  cryptovinesco|        0|           0| community|\n",
      "|#Security #News \\...|    E_4_Jupiter|        0|           0|    safety|\n",
      "|#Security #News \\...|    E_4_Jupiter|        0|           0|    health|\n",
      "|Women on vegetari...|AsianTimeOnline|        0|           0|    health|\n",
      "|RackWare Announce...|      AiThority|        0|           0|protection|\n",
      "|Over 8000 VNC ins...|        AcooEdi|        0|           0|  research|\n",
      "|Nitish Cabinet Ex...|      Scrilling|        0|           0|     trust|\n",
      "|Horoscopes Aug. 1...|viralnews_osint|        0|           0|      care|\n",
      "|Six (06) Covid-19...|      saranga09|        1|           1|    health|\n",
      "|This Is What Scar...|     GafferNews|        0|           0|      care|\n",
      "|Home Depot Q2 sam...|JacekWierzbicki|        0|           0|     facts|\n",
      "|Home Depot Q2 U.S...|JacekWierzbicki|        0|           0|     facts|\n",
      "|Home Depot Q2 Fac...|JacekWierzbicki|        0|           0|     facts|\n",
      "|Two Covid Scares ...|      UsBurning|        0|           0|      care|\n",
      "|No more discrimin...|       makito04|        2|           0| community|\n",
      "|Progressive Natio...|    BrelDigital|        0|           0|  progress|\n",
      "|GET YOUR ARTICLE ...|   RisetService|        1|           0|   science|\n",
      "|I like joints 😆?...|Tanveer44185543|        4|           0| community|\n",
      "|#NEWS #FederalIns...|   brandpowerng|        0|           0|  research|\n",
      "+--------------------+---------------+---------+------------+----------+\n",
      "only showing top 20 rows\n",
      "\n",
      "+--------------------+---------------+---------+------------+-------+\n",
      "|             content|       username|likeCount|retweetCount|  value|\n",
      "+--------------------+---------------+---------+------------+-------+\n",
      "|Road to war: U.S....|   EuropeNews_b|        0|           0|   lies|\n",
      "|Women on vegetari...|AsianTimeOnline|        0|           0|   risk|\n",
      "|#America #USA #Ma...|SiouxCityCrypto|        0|           0|   lies|\n",
      "|@9NewsQueensland ...|        DHMOban|        1|           0| danger|\n",
      "|BLOOMSBURY – A to...|  LeavSteinberg|        1|           0|control|\n",
      "|This perpetrator ...|        DHMOban|        1|           1| danger|\n",
      "|Russian TV channe...| _Thirunarayan1|        0|           1| forced|\n",
      "|In honor of an op...|   Belinda_Post|        0|           0| danger|\n",
      "|@Dreamweasel LOL ...|     VoteHafner|        1|           0|   lies|\n",
      "|Recent pitch for ...|       ChronLaw|        0|           0|control|\n",
      "|Recent pitch for ...|       ChronLaw|        0|           0|   lies|\n",
      "|Nigeria: Army Foi...|       riskmap_|        0|           0|   risk|\n",
      "|Hong Kong man fli...|       ChronLaw|        0|           0|   lies|\n",
      "|@9NewsAUS This pe...|        DHMOban|        1|           1| danger|\n",
      "|City sign left-ba...|yourchoice_news|        0|           0| choice|\n",
      "|This Credit Card ...|  RoyalNewsfeed|        0|           0|   risk|\n",
      "|Overcrowded anima...|yourchoice_news|        0|           0| choice|\n",
      "|Amul Milk Price H...|yourchoice_news|        0|           0| choice|\n",
      "|Diva War! Glitter...|celeb_detective|        0|           0|   lies|\n",
      "|There's a biologi...|yourchoice_news|        0|           0| choice|\n",
      "+--------------------+---------------+---------+------------+-------+\n",
      "only showing top 20 rows\n",
      "\n"
     ]
    }
   ],
   "source": [
    "# Tomar lo que queremos de los tweets\n",
    "tweets = df.select(\"content\",\"user.username\",\"likeCount\",\"retweetCount\")\n",
    "\n",
    "# Realizar el producto cruz para luego ver si las palabras estan en los tweets\n",
    "producto_cruz_pro = tweets.crossJoin(pro_keywords)\n",
    "tweets_pro_vax = producto_cruz_pro.filter(lower(col(\"content\")).contains(col(\"value\")))\n",
    "producto_cruz_anti = tweets.crossJoin(anti_keywords)\n",
    "tweets_anti_vax = producto_cruz_anti.filter(lower(col(\"content\")).contains(col(\"value\")))\n",
    "\n",
    "tweets_pro_vax.show()\n",
    "tweets_anti_vax.show()"
   ]
  },
  {
   "cell_type": "code",
   "execution_count": null,
   "id": "124f2f7a-eb5e-47d9-b390-519a45e05988",
   "metadata": {},
   "outputs": [],
   "source": [
    "# Guardamos contadores de tweets pro y anti vacunas\n",
    "numero_de_tweets_pro = tweets_pro_vax.count()\n",
    "numero_de_tweets_anti = tweets_anti_vax.count()"
   ]
  },
  {
   "cell_type": "code",
   "execution_count": 12,
   "id": "908282f0-7b69-43a9-8d30-8574ceb7928f",
   "metadata": {},
   "outputs": [
    {
     "name": "stdout",
     "output_type": "stream",
     "text": [
      "+----+------+\n",
      "|tipo|numero|\n",
      "+----+------+\n",
      "| pro|426472|\n",
      "|anti|121401|\n",
      "+----+------+\n",
      "\n"
     ]
    }
   ],
   "source": [
    "from pyspark.sql.types import StructType, StructField, StringType, IntegerType\n",
    "\n",
    "# Definir el esquema del DataFrame\n",
    "esquema = StructType([\n",
    "    StructField(\"tipo\", StringType(), True),\n",
    "    StructField(\"numero\", IntegerType(), True)\n",
    "])\n",
    "# Dataframe contadores\n",
    "datos = [(\"pro-vacunas\", numero_de_tweets_pro), (\"anti-vacunas\", numero_de_tweets_anti)]\n",
    "conteo = spark.createDataFrame(datos, esquema)\n",
    "\n",
    "conteo.show()"
   ]
  },
  {
   "cell_type": "code",
   "execution_count": null,
   "id": "4eaac33e-ed73-4d46-9a85-8e573ccfe7d8",
   "metadata": {},
   "outputs": [],
   "source": [
    "# Guardamos los resultados\n",
    "tweets_pro_vax.write.json(\"salida_problema4_provax_spark\")\n",
    "tweets_anti_vax.write.json(\"salida_problema4_antivax_spark\")"
   ]
  },
  {
   "cell_type": "code",
   "execution_count": 14,
   "id": "e75e1599-a648-43c6-b179-ff6f0ada1517",
   "metadata": {},
   "outputs": [
    {
     "name": "stdout",
     "output_type": "stream",
     "text": [
      "+---------------+-----+\n",
      "|       username|count|\n",
      "+---------------+-----+\n",
      "|        poandpo| 5164|\n",
      "|       ChronLaw| 4884|\n",
      "|yourchoice_news| 4876|\n",
      "|JacekWierzbicki| 3853|\n",
      "|  MadrasTribune| 2166|\n",
      "|    MarketsCafe| 2039|\n",
      "|   EuropeNews_b| 1664|\n",
      "|       smorffer| 1622|\n",
      "|Knewz_Currently| 1541|\n",
      "|RisksAssociated| 1465|\n",
      "|    DonShelbyUK| 1370|\n",
      "| robinsnewswire| 1283|\n",
      "| NewsPlayerPlus| 1231|\n",
      "|       riskmap_| 1143|\n",
      "|  techinjektion| 1074|\n",
      "|      UK_News_b| 1031|\n",
      "|   etf_dividend| 1017|\n",
      "|   chrisoldcorn| 1006|\n",
      "|      condorbox|  867|\n",
      "|   World_News_b|  750|\n",
      "+---------------+-----+\n",
      "only showing top 20 rows\n",
      "\n"
     ]
    },
    {
     "data": {
      "text/plain": [
       "<bound method DataFrame.show of DataFrame[username: string, count: bigint]>"
      ]
     },
     "execution_count": 14,
     "metadata": {},
     "output_type": "execute_result"
    }
   ],
   "source": [
    "usuarios_anti = tweets_anti_vax.groupBy(\"username\").count().orderBy(col(\"count\").desc())\n",
    "usuarios_pro = tweets_pro_vax.groupBy(\"username\").count().orderBy(col(\"count\").desc())\n",
    "\n",
    "usuarios_anti.show()\n",
    "usuarios_pro.show()"
   ]
  },
  {
   "cell_type": "code",
   "execution_count": null,
   "id": "5194fdba-9a87-4420-a725-87e6d6ea8a94",
   "metadata": {},
   "outputs": [],
   "source": [
    "# Guardamos los resultados\n",
    "conteo.write.json(\"conteo/total_tweets\")\n",
    "usuarios_anti.write.json(\"conteo/usuarios_anti\")\n",
    "usuarios_pro.write.json(\"conteo/usuarios_pro\")"
   ]
  }
 ],
 "metadata": {
  "kernelspec": {
   "display_name": "Python 3 (ipykernel)",
   "language": "python",
   "name": "python3"
  },
  "language_info": {
   "codemirror_mode": {
    "name": "ipython",
    "version": 3
   },
   "file_extension": ".py",
   "mimetype": "text/x-python",
   "name": "python",
   "nbconvert_exporter": "python",
   "pygments_lexer": "ipython3",
   "version": "3.10.12"
  }
 },
 "nbformat": 4,
 "nbformat_minor": 5
}
